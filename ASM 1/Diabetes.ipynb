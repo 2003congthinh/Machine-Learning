{
 "cells": [
  {
   "cell_type": "code",
   "execution_count": 25,
   "id": "ddab2b35-5526-4065-9b39-fed08bb96e41",
   "metadata": {},
   "outputs": [],
   "source": [
    "import pandas as pd\n",
    "import matplotlib.pyplot as plt\n",
    "import numpy as np"
   ]
  },
  {
   "cell_type": "markdown",
   "id": "4380e0e2-d266-43cc-944c-8bdcca939446",
   "metadata": {},
   "source": [
    "<h3>Preparing the train data<h3>"
   ]
  },
  {
   "cell_type": "code",
   "execution_count": 26,
   "id": "ec3e5ac7-512e-4995-b3eb-6580acf2bded",
   "metadata": {},
   "outputs": [],
   "source": [
    "train_data = pd.read_csv('data_train.csv')\n",
    "train = train_data[:int(len(train_data)*0.6)] #no need to print"
   ]
  },
  {
   "cell_type": "code",
   "execution_count": 27,
   "id": "48ff22ae-ed0a-4a4e-b411-9345ae6d36bf",
   "metadata": {},
   "outputs": [
    {
     "name": "stdout",
     "output_type": "stream",
     "text": [
      "<class 'pandas.core.frame.DataFrame'>\n",
      "RangeIndex: 121766 entries, 0 to 121765\n",
      "Data columns (total 25 columns):\n",
      " #   Column                Non-Null Count   Dtype\n",
      "---  ------                --------------   -----\n",
      " 0   Id                    121766 non-null  int64\n",
      " 1   HighBP                121766 non-null  int64\n",
      " 2   HighChol              121766 non-null  int64\n",
      " 3   CholCheck             121766 non-null  int64\n",
      " 4   BMI                   121766 non-null  int64\n",
      " 5   Smoker                121766 non-null  int64\n",
      " 6   Stroke                121766 non-null  int64\n",
      " 7   HeartDiseaseorAttack  121766 non-null  int64\n",
      " 8   PhysActivity          121766 non-null  int64\n",
      " 9   Fruits                121766 non-null  int64\n",
      " 10  Veggies               121766 non-null  int64\n",
      " 11  HvyAlcoholConsump     121766 non-null  int64\n",
      " 12  AnyHealthcare         121766 non-null  int64\n",
      " 13  NoDocbcCost           121766 non-null  int64\n",
      " 14  GenHlth               121766 non-null  int64\n",
      " 15  MentHlth              121766 non-null  int64\n",
      " 16  PhysHlth              121766 non-null  int64\n",
      " 17  DiffWalk              121766 non-null  int64\n",
      " 18  Sex                   121766 non-null  int64\n",
      " 19  Age                   121766 non-null  int64\n",
      " 20  Education             121766 non-null  int64\n",
      " 21  Income                121766 non-null  int64\n",
      " 22  ExtraMedTest          121766 non-null  int64\n",
      " 23  ExtraAlcoholTest      121766 non-null  int64\n",
      " 24  Status                121766 non-null  int64\n",
      "dtypes: int64(25)\n",
      "memory usage: 23.2 MB\n"
     ]
    }
   ],
   "source": [
    "train.info() #Check for null, if there are null - use dropna()"
   ]
  },
  {
   "cell_type": "markdown",
   "id": "a8b3ecb0-e01f-419c-93cb-46168fa24123",
   "metadata": {},
   "source": [
    "<h3>Split into input & output<h3>"
   ]
  },
  {
   "cell_type": "code",
   "execution_count": 28,
   "id": "99b903ff-e495-4867-b977-eccc1f0c6f74",
   "metadata": {},
   "outputs": [],
   "source": [
    "X = train.drop(columns=['Status'])\n",
    "y = train['Status']"
   ]
  },
  {
   "cell_type": "code",
   "execution_count": 29,
   "id": "b456aa4c-7517-4d15-a898-70e7d17ded13",
   "metadata": {},
   "outputs": [
    {
     "data": {
      "text/plain": [
       "count    121766.000000\n",
       "mean          0.174589\n",
       "std           0.379617\n",
       "min           0.000000\n",
       "25%           0.000000\n",
       "50%           0.000000\n",
       "75%           0.000000\n",
       "max           1.000000\n",
       "Name: Status, dtype: float64"
      ]
     },
     "execution_count": 29,
     "metadata": {},
     "output_type": "execute_result"
    }
   ],
   "source": [
    "y.describe()"
   ]
  },
  {
   "cell_type": "markdown",
   "id": "932ca9db-0e80-4295-8390-9741440124d1",
   "metadata": {},
   "source": [
    "<h3>Prepare the validation data<h3>"
   ]
  },
  {
   "cell_type": "code",
   "execution_count": 30,
   "id": "d4c9a020-8c0f-42e5-b5df-d1307f788651",
   "metadata": {},
   "outputs": [
    {
     "data": {
      "text/html": [
       "<div>\n",
       "<style scoped>\n",
       "    .dataframe tbody tr th:only-of-type {\n",
       "        vertical-align: middle;\n",
       "    }\n",
       "\n",
       "    .dataframe tbody tr th {\n",
       "        vertical-align: top;\n",
       "    }\n",
       "\n",
       "    .dataframe thead th {\n",
       "        text-align: right;\n",
       "    }\n",
       "</style>\n",
       "<table border=\"1\" class=\"dataframe\">\n",
       "  <thead>\n",
       "    <tr style=\"text-align: right;\">\n",
       "      <th></th>\n",
       "      <th>Id</th>\n",
       "      <th>HighBP</th>\n",
       "      <th>HighChol</th>\n",
       "      <th>CholCheck</th>\n",
       "      <th>BMI</th>\n",
       "      <th>Smoker</th>\n",
       "      <th>Stroke</th>\n",
       "      <th>HeartDiseaseorAttack</th>\n",
       "      <th>PhysActivity</th>\n",
       "      <th>Fruits</th>\n",
       "      <th>...</th>\n",
       "      <th>MentHlth</th>\n",
       "      <th>PhysHlth</th>\n",
       "      <th>DiffWalk</th>\n",
       "      <th>Sex</th>\n",
       "      <th>Age</th>\n",
       "      <th>Education</th>\n",
       "      <th>Income</th>\n",
       "      <th>ExtraMedTest</th>\n",
       "      <th>ExtraAlcoholTest</th>\n",
       "      <th>Status</th>\n",
       "    </tr>\n",
       "  </thead>\n",
       "  <tbody>\n",
       "    <tr>\n",
       "      <th>121766</th>\n",
       "      <td>121766</td>\n",
       "      <td>0</td>\n",
       "      <td>0</td>\n",
       "      <td>1</td>\n",
       "      <td>22</td>\n",
       "      <td>1</td>\n",
       "      <td>0</td>\n",
       "      <td>0</td>\n",
       "      <td>1</td>\n",
       "      <td>1</td>\n",
       "      <td>...</td>\n",
       "      <td>0</td>\n",
       "      <td>1</td>\n",
       "      <td>0</td>\n",
       "      <td>0</td>\n",
       "      <td>11</td>\n",
       "      <td>4</td>\n",
       "      <td>8</td>\n",
       "      <td>-152</td>\n",
       "      <td>-89</td>\n",
       "      <td>0</td>\n",
       "    </tr>\n",
       "    <tr>\n",
       "      <th>121767</th>\n",
       "      <td>121767</td>\n",
       "      <td>0</td>\n",
       "      <td>0</td>\n",
       "      <td>1</td>\n",
       "      <td>28</td>\n",
       "      <td>0</td>\n",
       "      <td>0</td>\n",
       "      <td>0</td>\n",
       "      <td>1</td>\n",
       "      <td>1</td>\n",
       "      <td>...</td>\n",
       "      <td>0</td>\n",
       "      <td>0</td>\n",
       "      <td>0</td>\n",
       "      <td>1</td>\n",
       "      <td>8</td>\n",
       "      <td>6</td>\n",
       "      <td>7</td>\n",
       "      <td>-117</td>\n",
       "      <td>-68</td>\n",
       "      <td>0</td>\n",
       "    </tr>\n",
       "    <tr>\n",
       "      <th>121768</th>\n",
       "      <td>121768</td>\n",
       "      <td>0</td>\n",
       "      <td>0</td>\n",
       "      <td>1</td>\n",
       "      <td>22</td>\n",
       "      <td>1</td>\n",
       "      <td>0</td>\n",
       "      <td>0</td>\n",
       "      <td>1</td>\n",
       "      <td>1</td>\n",
       "      <td>...</td>\n",
       "      <td>5</td>\n",
       "      <td>2</td>\n",
       "      <td>0</td>\n",
       "      <td>0</td>\n",
       "      <td>3</td>\n",
       "      <td>4</td>\n",
       "      <td>8</td>\n",
       "      <td>49</td>\n",
       "      <td>-187</td>\n",
       "      <td>0</td>\n",
       "    </tr>\n",
       "    <tr>\n",
       "      <th>121769</th>\n",
       "      <td>121769</td>\n",
       "      <td>0</td>\n",
       "      <td>0</td>\n",
       "      <td>1</td>\n",
       "      <td>23</td>\n",
       "      <td>1</td>\n",
       "      <td>0</td>\n",
       "      <td>0</td>\n",
       "      <td>1</td>\n",
       "      <td>1</td>\n",
       "      <td>...</td>\n",
       "      <td>0</td>\n",
       "      <td>0</td>\n",
       "      <td>0</td>\n",
       "      <td>1</td>\n",
       "      <td>12</td>\n",
       "      <td>5</td>\n",
       "      <td>5</td>\n",
       "      <td>-46</td>\n",
       "      <td>0</td>\n",
       "      <td>0</td>\n",
       "    </tr>\n",
       "    <tr>\n",
       "      <th>121770</th>\n",
       "      <td>121770</td>\n",
       "      <td>1</td>\n",
       "      <td>1</td>\n",
       "      <td>1</td>\n",
       "      <td>23</td>\n",
       "      <td>1</td>\n",
       "      <td>0</td>\n",
       "      <td>0</td>\n",
       "      <td>1</td>\n",
       "      <td>1</td>\n",
       "      <td>...</td>\n",
       "      <td>0</td>\n",
       "      <td>0</td>\n",
       "      <td>0</td>\n",
       "      <td>1</td>\n",
       "      <td>1</td>\n",
       "      <td>4</td>\n",
       "      <td>1</td>\n",
       "      <td>83</td>\n",
       "      <td>78</td>\n",
       "      <td>0</td>\n",
       "    </tr>\n",
       "    <tr>\n",
       "      <th>...</th>\n",
       "      <td>...</td>\n",
       "      <td>...</td>\n",
       "      <td>...</td>\n",
       "      <td>...</td>\n",
       "      <td>...</td>\n",
       "      <td>...</td>\n",
       "      <td>...</td>\n",
       "      <td>...</td>\n",
       "      <td>...</td>\n",
       "      <td>...</td>\n",
       "      <td>...</td>\n",
       "      <td>...</td>\n",
       "      <td>...</td>\n",
       "      <td>...</td>\n",
       "      <td>...</td>\n",
       "      <td>...</td>\n",
       "      <td>...</td>\n",
       "      <td>...</td>\n",
       "      <td>...</td>\n",
       "      <td>...</td>\n",
       "      <td>...</td>\n",
       "    </tr>\n",
       "    <tr>\n",
       "      <th>162350</th>\n",
       "      <td>162350</td>\n",
       "      <td>1</td>\n",
       "      <td>0</td>\n",
       "      <td>1</td>\n",
       "      <td>35</td>\n",
       "      <td>0</td>\n",
       "      <td>0</td>\n",
       "      <td>0</td>\n",
       "      <td>0</td>\n",
       "      <td>1</td>\n",
       "      <td>...</td>\n",
       "      <td>0</td>\n",
       "      <td>0</td>\n",
       "      <td>0</td>\n",
       "      <td>1</td>\n",
       "      <td>9</td>\n",
       "      <td>6</td>\n",
       "      <td>7</td>\n",
       "      <td>-73</td>\n",
       "      <td>0</td>\n",
       "      <td>0</td>\n",
       "    </tr>\n",
       "    <tr>\n",
       "      <th>162351</th>\n",
       "      <td>162351</td>\n",
       "      <td>0</td>\n",
       "      <td>0</td>\n",
       "      <td>0</td>\n",
       "      <td>23</td>\n",
       "      <td>1</td>\n",
       "      <td>0</td>\n",
       "      <td>0</td>\n",
       "      <td>1</td>\n",
       "      <td>1</td>\n",
       "      <td>...</td>\n",
       "      <td>0</td>\n",
       "      <td>0</td>\n",
       "      <td>0</td>\n",
       "      <td>1</td>\n",
       "      <td>5</td>\n",
       "      <td>4</td>\n",
       "      <td>8</td>\n",
       "      <td>26</td>\n",
       "      <td>0</td>\n",
       "      <td>0</td>\n",
       "    </tr>\n",
       "    <tr>\n",
       "      <th>162352</th>\n",
       "      <td>162352</td>\n",
       "      <td>0</td>\n",
       "      <td>1</td>\n",
       "      <td>1</td>\n",
       "      <td>25</td>\n",
       "      <td>0</td>\n",
       "      <td>0</td>\n",
       "      <td>0</td>\n",
       "      <td>1</td>\n",
       "      <td>1</td>\n",
       "      <td>...</td>\n",
       "      <td>0</td>\n",
       "      <td>0</td>\n",
       "      <td>0</td>\n",
       "      <td>1</td>\n",
       "      <td>12</td>\n",
       "      <td>6</td>\n",
       "      <td>8</td>\n",
       "      <td>-18</td>\n",
       "      <td>-47</td>\n",
       "      <td>0</td>\n",
       "    </tr>\n",
       "    <tr>\n",
       "      <th>162353</th>\n",
       "      <td>162353</td>\n",
       "      <td>1</td>\n",
       "      <td>0</td>\n",
       "      <td>1</td>\n",
       "      <td>27</td>\n",
       "      <td>1</td>\n",
       "      <td>0</td>\n",
       "      <td>0</td>\n",
       "      <td>0</td>\n",
       "      <td>1</td>\n",
       "      <td>...</td>\n",
       "      <td>0</td>\n",
       "      <td>2</td>\n",
       "      <td>1</td>\n",
       "      <td>0</td>\n",
       "      <td>12</td>\n",
       "      <td>5</td>\n",
       "      <td>7</td>\n",
       "      <td>100</td>\n",
       "      <td>119</td>\n",
       "      <td>1</td>\n",
       "    </tr>\n",
       "    <tr>\n",
       "      <th>162354</th>\n",
       "      <td>162354</td>\n",
       "      <td>0</td>\n",
       "      <td>0</td>\n",
       "      <td>1</td>\n",
       "      <td>26</td>\n",
       "      <td>1</td>\n",
       "      <td>0</td>\n",
       "      <td>0</td>\n",
       "      <td>1</td>\n",
       "      <td>1</td>\n",
       "      <td>...</td>\n",
       "      <td>0</td>\n",
       "      <td>0</td>\n",
       "      <td>0</td>\n",
       "      <td>0</td>\n",
       "      <td>4</td>\n",
       "      <td>6</td>\n",
       "      <td>8</td>\n",
       "      <td>-30</td>\n",
       "      <td>47</td>\n",
       "      <td>0</td>\n",
       "    </tr>\n",
       "  </tbody>\n",
       "</table>\n",
       "<p>40589 rows × 25 columns</p>\n",
       "</div>"
      ],
      "text/plain": [
       "            Id  HighBP  HighChol  CholCheck  BMI  Smoker  Stroke  \\\n",
       "121766  121766       0         0          1   22       1       0   \n",
       "121767  121767       0         0          1   28       0       0   \n",
       "121768  121768       0         0          1   22       1       0   \n",
       "121769  121769       0         0          1   23       1       0   \n",
       "121770  121770       1         1          1   23       1       0   \n",
       "...        ...     ...       ...        ...  ...     ...     ...   \n",
       "162350  162350       1         0          1   35       0       0   \n",
       "162351  162351       0         0          0   23       1       0   \n",
       "162352  162352       0         1          1   25       0       0   \n",
       "162353  162353       1         0          1   27       1       0   \n",
       "162354  162354       0         0          1   26       1       0   \n",
       "\n",
       "        HeartDiseaseorAttack  PhysActivity  Fruits  ...  MentHlth  PhysHlth  \\\n",
       "121766                     0             1       1  ...         0         1   \n",
       "121767                     0             1       1  ...         0         0   \n",
       "121768                     0             1       1  ...         5         2   \n",
       "121769                     0             1       1  ...         0         0   \n",
       "121770                     0             1       1  ...         0         0   \n",
       "...                      ...           ...     ...  ...       ...       ...   \n",
       "162350                     0             0       1  ...         0         0   \n",
       "162351                     0             1       1  ...         0         0   \n",
       "162352                     0             1       1  ...         0         0   \n",
       "162353                     0             0       1  ...         0         2   \n",
       "162354                     0             1       1  ...         0         0   \n",
       "\n",
       "        DiffWalk  Sex  Age  Education  Income  ExtraMedTest  ExtraAlcoholTest  \\\n",
       "121766         0    0   11          4       8          -152               -89   \n",
       "121767         0    1    8          6       7          -117               -68   \n",
       "121768         0    0    3          4       8            49              -187   \n",
       "121769         0    1   12          5       5           -46                 0   \n",
       "121770         0    1    1          4       1            83                78   \n",
       "...          ...  ...  ...        ...     ...           ...               ...   \n",
       "162350         0    1    9          6       7           -73                 0   \n",
       "162351         0    1    5          4       8            26                 0   \n",
       "162352         0    1   12          6       8           -18               -47   \n",
       "162353         1    0   12          5       7           100               119   \n",
       "162354         0    0    4          6       8           -30                47   \n",
       "\n",
       "        Status  \n",
       "121766       0  \n",
       "121767       0  \n",
       "121768       0  \n",
       "121769       0  \n",
       "121770       0  \n",
       "...        ...  \n",
       "162350       0  \n",
       "162351       0  \n",
       "162352       0  \n",
       "162353       1  \n",
       "162354       0  \n",
       "\n",
       "[40589 rows x 25 columns]"
      ]
     },
     "execution_count": 30,
     "metadata": {},
     "output_type": "execute_result"
    }
   ],
   "source": [
    "val = train_data[int(len(train_data)*0.6):int(len(train_data)*0.8)]\n",
    "val"
   ]
  },
  {
   "cell_type": "markdown",
   "id": "a790075f-2309-4c6c-8611-576927d2a504",
   "metadata": {},
   "source": [
    "<h3>Prepare the test set<h3>"
   ]
  },
  {
   "cell_type": "code",
   "execution_count": 31,
   "id": "09295b34-017f-4455-9227-e15de1672c2c",
   "metadata": {},
   "outputs": [
    {
     "data": {
      "text/html": [
       "<div>\n",
       "<style scoped>\n",
       "    .dataframe tbody tr th:only-of-type {\n",
       "        vertical-align: middle;\n",
       "    }\n",
       "\n",
       "    .dataframe tbody tr th {\n",
       "        vertical-align: top;\n",
       "    }\n",
       "\n",
       "    .dataframe thead th {\n",
       "        text-align: right;\n",
       "    }\n",
       "</style>\n",
       "<table border=\"1\" class=\"dataframe\">\n",
       "  <thead>\n",
       "    <tr style=\"text-align: right;\">\n",
       "      <th></th>\n",
       "      <th>Id</th>\n",
       "      <th>HighBP</th>\n",
       "      <th>HighChol</th>\n",
       "      <th>CholCheck</th>\n",
       "      <th>BMI</th>\n",
       "      <th>Smoker</th>\n",
       "      <th>Stroke</th>\n",
       "      <th>HeartDiseaseorAttack</th>\n",
       "      <th>PhysActivity</th>\n",
       "      <th>Fruits</th>\n",
       "      <th>...</th>\n",
       "      <th>MentHlth</th>\n",
       "      <th>PhysHlth</th>\n",
       "      <th>DiffWalk</th>\n",
       "      <th>Sex</th>\n",
       "      <th>Age</th>\n",
       "      <th>Education</th>\n",
       "      <th>Income</th>\n",
       "      <th>ExtraMedTest</th>\n",
       "      <th>ExtraAlcoholTest</th>\n",
       "      <th>Status</th>\n",
       "    </tr>\n",
       "  </thead>\n",
       "  <tbody>\n",
       "    <tr>\n",
       "      <th>162355</th>\n",
       "      <td>162355</td>\n",
       "      <td>0</td>\n",
       "      <td>0</td>\n",
       "      <td>1</td>\n",
       "      <td>29</td>\n",
       "      <td>1</td>\n",
       "      <td>0</td>\n",
       "      <td>0</td>\n",
       "      <td>1</td>\n",
       "      <td>1</td>\n",
       "      <td>...</td>\n",
       "      <td>0</td>\n",
       "      <td>0</td>\n",
       "      <td>0</td>\n",
       "      <td>0</td>\n",
       "      <td>11</td>\n",
       "      <td>6</td>\n",
       "      <td>5</td>\n",
       "      <td>14</td>\n",
       "      <td>0</td>\n",
       "      <td>0</td>\n",
       "    </tr>\n",
       "    <tr>\n",
       "      <th>162356</th>\n",
       "      <td>162356</td>\n",
       "      <td>1</td>\n",
       "      <td>1</td>\n",
       "      <td>1</td>\n",
       "      <td>33</td>\n",
       "      <td>0</td>\n",
       "      <td>0</td>\n",
       "      <td>1</td>\n",
       "      <td>0</td>\n",
       "      <td>1</td>\n",
       "      <td>...</td>\n",
       "      <td>0</td>\n",
       "      <td>3</td>\n",
       "      <td>0</td>\n",
       "      <td>0</td>\n",
       "      <td>9</td>\n",
       "      <td>5</td>\n",
       "      <td>7</td>\n",
       "      <td>-58</td>\n",
       "      <td>-70</td>\n",
       "      <td>0</td>\n",
       "    </tr>\n",
       "    <tr>\n",
       "      <th>162357</th>\n",
       "      <td>162357</td>\n",
       "      <td>0</td>\n",
       "      <td>0</td>\n",
       "      <td>1</td>\n",
       "      <td>39</td>\n",
       "      <td>0</td>\n",
       "      <td>0</td>\n",
       "      <td>0</td>\n",
       "      <td>1</td>\n",
       "      <td>1</td>\n",
       "      <td>...</td>\n",
       "      <td>5</td>\n",
       "      <td>30</td>\n",
       "      <td>0</td>\n",
       "      <td>0</td>\n",
       "      <td>5</td>\n",
       "      <td>5</td>\n",
       "      <td>8</td>\n",
       "      <td>89</td>\n",
       "      <td>-72</td>\n",
       "      <td>0</td>\n",
       "    </tr>\n",
       "    <tr>\n",
       "      <th>162358</th>\n",
       "      <td>162358</td>\n",
       "      <td>0</td>\n",
       "      <td>0</td>\n",
       "      <td>1</td>\n",
       "      <td>20</td>\n",
       "      <td>0</td>\n",
       "      <td>0</td>\n",
       "      <td>0</td>\n",
       "      <td>1</td>\n",
       "      <td>1</td>\n",
       "      <td>...</td>\n",
       "      <td>0</td>\n",
       "      <td>0</td>\n",
       "      <td>0</td>\n",
       "      <td>0</td>\n",
       "      <td>7</td>\n",
       "      <td>6</td>\n",
       "      <td>8</td>\n",
       "      <td>0</td>\n",
       "      <td>-64</td>\n",
       "      <td>0</td>\n",
       "    </tr>\n",
       "    <tr>\n",
       "      <th>162359</th>\n",
       "      <td>162359</td>\n",
       "      <td>0</td>\n",
       "      <td>0</td>\n",
       "      <td>1</td>\n",
       "      <td>23</td>\n",
       "      <td>0</td>\n",
       "      <td>0</td>\n",
       "      <td>0</td>\n",
       "      <td>1</td>\n",
       "      <td>1</td>\n",
       "      <td>...</td>\n",
       "      <td>0</td>\n",
       "      <td>0</td>\n",
       "      <td>0</td>\n",
       "      <td>0</td>\n",
       "      <td>7</td>\n",
       "      <td>6</td>\n",
       "      <td>8</td>\n",
       "      <td>-24</td>\n",
       "      <td>-179</td>\n",
       "      <td>0</td>\n",
       "    </tr>\n",
       "    <tr>\n",
       "      <th>...</th>\n",
       "      <td>...</td>\n",
       "      <td>...</td>\n",
       "      <td>...</td>\n",
       "      <td>...</td>\n",
       "      <td>...</td>\n",
       "      <td>...</td>\n",
       "      <td>...</td>\n",
       "      <td>...</td>\n",
       "      <td>...</td>\n",
       "      <td>...</td>\n",
       "      <td>...</td>\n",
       "      <td>...</td>\n",
       "      <td>...</td>\n",
       "      <td>...</td>\n",
       "      <td>...</td>\n",
       "      <td>...</td>\n",
       "      <td>...</td>\n",
       "      <td>...</td>\n",
       "      <td>...</td>\n",
       "      <td>...</td>\n",
       "      <td>...</td>\n",
       "    </tr>\n",
       "    <tr>\n",
       "      <th>202939</th>\n",
       "      <td>202939</td>\n",
       "      <td>0</td>\n",
       "      <td>0</td>\n",
       "      <td>1</td>\n",
       "      <td>29</td>\n",
       "      <td>0</td>\n",
       "      <td>0</td>\n",
       "      <td>0</td>\n",
       "      <td>1</td>\n",
       "      <td>0</td>\n",
       "      <td>...</td>\n",
       "      <td>10</td>\n",
       "      <td>2</td>\n",
       "      <td>0</td>\n",
       "      <td>0</td>\n",
       "      <td>8</td>\n",
       "      <td>6</td>\n",
       "      <td>7</td>\n",
       "      <td>-66</td>\n",
       "      <td>4</td>\n",
       "      <td>0</td>\n",
       "    </tr>\n",
       "    <tr>\n",
       "      <th>202940</th>\n",
       "      <td>202940</td>\n",
       "      <td>0</td>\n",
       "      <td>0</td>\n",
       "      <td>1</td>\n",
       "      <td>23</td>\n",
       "      <td>0</td>\n",
       "      <td>0</td>\n",
       "      <td>0</td>\n",
       "      <td>1</td>\n",
       "      <td>0</td>\n",
       "      <td>...</td>\n",
       "      <td>0</td>\n",
       "      <td>0</td>\n",
       "      <td>0</td>\n",
       "      <td>0</td>\n",
       "      <td>11</td>\n",
       "      <td>5</td>\n",
       "      <td>7</td>\n",
       "      <td>0</td>\n",
       "      <td>-84</td>\n",
       "      <td>0</td>\n",
       "    </tr>\n",
       "    <tr>\n",
       "      <th>202941</th>\n",
       "      <td>202941</td>\n",
       "      <td>1</td>\n",
       "      <td>1</td>\n",
       "      <td>1</td>\n",
       "      <td>38</td>\n",
       "      <td>0</td>\n",
       "      <td>0</td>\n",
       "      <td>0</td>\n",
       "      <td>1</td>\n",
       "      <td>1</td>\n",
       "      <td>...</td>\n",
       "      <td>0</td>\n",
       "      <td>2</td>\n",
       "      <td>0</td>\n",
       "      <td>1</td>\n",
       "      <td>10</td>\n",
       "      <td>6</td>\n",
       "      <td>6</td>\n",
       "      <td>-57</td>\n",
       "      <td>-16</td>\n",
       "      <td>0</td>\n",
       "    </tr>\n",
       "    <tr>\n",
       "      <th>202942</th>\n",
       "      <td>202942</td>\n",
       "      <td>0</td>\n",
       "      <td>1</td>\n",
       "      <td>1</td>\n",
       "      <td>22</td>\n",
       "      <td>0</td>\n",
       "      <td>0</td>\n",
       "      <td>0</td>\n",
       "      <td>1</td>\n",
       "      <td>1</td>\n",
       "      <td>...</td>\n",
       "      <td>0</td>\n",
       "      <td>14</td>\n",
       "      <td>0</td>\n",
       "      <td>0</td>\n",
       "      <td>9</td>\n",
       "      <td>6</td>\n",
       "      <td>7</td>\n",
       "      <td>59</td>\n",
       "      <td>0</td>\n",
       "      <td>0</td>\n",
       "    </tr>\n",
       "    <tr>\n",
       "      <th>202943</th>\n",
       "      <td>202943</td>\n",
       "      <td>0</td>\n",
       "      <td>0</td>\n",
       "      <td>1</td>\n",
       "      <td>22</td>\n",
       "      <td>0</td>\n",
       "      <td>0</td>\n",
       "      <td>0</td>\n",
       "      <td>0</td>\n",
       "      <td>0</td>\n",
       "      <td>...</td>\n",
       "      <td>2</td>\n",
       "      <td>2</td>\n",
       "      <td>0</td>\n",
       "      <td>1</td>\n",
       "      <td>5</td>\n",
       "      <td>6</td>\n",
       "      <td>8</td>\n",
       "      <td>-96</td>\n",
       "      <td>0</td>\n",
       "      <td>0</td>\n",
       "    </tr>\n",
       "  </tbody>\n",
       "</table>\n",
       "<p>40589 rows × 25 columns</p>\n",
       "</div>"
      ],
      "text/plain": [
       "            Id  HighBP  HighChol  CholCheck  BMI  Smoker  Stroke  \\\n",
       "162355  162355       0         0          1   29       1       0   \n",
       "162356  162356       1         1          1   33       0       0   \n",
       "162357  162357       0         0          1   39       0       0   \n",
       "162358  162358       0         0          1   20       0       0   \n",
       "162359  162359       0         0          1   23       0       0   \n",
       "...        ...     ...       ...        ...  ...     ...     ...   \n",
       "202939  202939       0         0          1   29       0       0   \n",
       "202940  202940       0         0          1   23       0       0   \n",
       "202941  202941       1         1          1   38       0       0   \n",
       "202942  202942       0         1          1   22       0       0   \n",
       "202943  202943       0         0          1   22       0       0   \n",
       "\n",
       "        HeartDiseaseorAttack  PhysActivity  Fruits  ...  MentHlth  PhysHlth  \\\n",
       "162355                     0             1       1  ...         0         0   \n",
       "162356                     1             0       1  ...         0         3   \n",
       "162357                     0             1       1  ...         5        30   \n",
       "162358                     0             1       1  ...         0         0   \n",
       "162359                     0             1       1  ...         0         0   \n",
       "...                      ...           ...     ...  ...       ...       ...   \n",
       "202939                     0             1       0  ...        10         2   \n",
       "202940                     0             1       0  ...         0         0   \n",
       "202941                     0             1       1  ...         0         2   \n",
       "202942                     0             1       1  ...         0        14   \n",
       "202943                     0             0       0  ...         2         2   \n",
       "\n",
       "        DiffWalk  Sex  Age  Education  Income  ExtraMedTest  ExtraAlcoholTest  \\\n",
       "162355         0    0   11          6       5            14                 0   \n",
       "162356         0    0    9          5       7           -58               -70   \n",
       "162357         0    0    5          5       8            89               -72   \n",
       "162358         0    0    7          6       8             0               -64   \n",
       "162359         0    0    7          6       8           -24              -179   \n",
       "...          ...  ...  ...        ...     ...           ...               ...   \n",
       "202939         0    0    8          6       7           -66                 4   \n",
       "202940         0    0   11          5       7             0               -84   \n",
       "202941         0    1   10          6       6           -57               -16   \n",
       "202942         0    0    9          6       7            59                 0   \n",
       "202943         0    1    5          6       8           -96                 0   \n",
       "\n",
       "        Status  \n",
       "162355       0  \n",
       "162356       0  \n",
       "162357       0  \n",
       "162358       0  \n",
       "162359       0  \n",
       "...        ...  \n",
       "202939       0  \n",
       "202940       0  \n",
       "202941       0  \n",
       "202942       0  \n",
       "202943       0  \n",
       "\n",
       "[40589 rows x 25 columns]"
      ]
     },
     "execution_count": 31,
     "metadata": {},
     "output_type": "execute_result"
    }
   ],
   "source": [
    "test = train_data[int(len(train_data)*0.8):len(train_data)]\n",
    "test"
   ]
  },
  {
   "cell_type": "markdown",
   "id": "659b5d21-7ea7-4299-b58e-9ae977c01952",
   "metadata": {},
   "source": [
    "<h3>Split data into train and validation set<h3>"
   ]
  },
  {
   "cell_type": "code",
   "execution_count": 32,
   "id": "9934838d-676e-4563-a85b-3f756a8ced5c",
   "metadata": {},
   "outputs": [],
   "source": [
    "from sklearn.model_selection import train_test_split\n",
    "\n",
    "# Split the data into training and testing sets\n",
    "X_train, X_val, y_train, y_val = train_test_split(X, y, test_size=0.2, random_state=42)\n",
    "X_val = val.drop(columns=['Status'])\n",
    "y_val = val['Status']"
   ]
  },
  {
   "cell_type": "code",
   "execution_count": 33,
   "id": "e500185a-1e91-4f63-ae21-737f4aef036e",
   "metadata": {},
   "outputs": [
    {
     "data": {
      "text/plain": [
       "121766    0\n",
       "121767    0\n",
       "121768    0\n",
       "121769    0\n",
       "121770    0\n",
       "121771    0\n",
       "121772    0\n",
       "121773    0\n",
       "121774    0\n",
       "121775    0\n",
       "Name: Status, dtype: int64"
      ]
     },
     "execution_count": 33,
     "metadata": {},
     "output_type": "execute_result"
    }
   ],
   "source": [
    "y_val[:10]"
   ]
  },
  {
   "cell_type": "markdown",
   "id": "f7d62a72-0d8b-43ee-8cfd-da63610d891c",
   "metadata": {},
   "source": [
    "<h3>Decision Trees<h3>"
   ]
  },
  {
   "cell_type": "code",
   "execution_count": 34,
   "id": "107532b4-2ca9-44ff-9c02-6262fd68d5ed",
   "metadata": {},
   "outputs": [],
   "source": [
    "from sklearn.tree import DecisionTreeClassifier\n",
    "\n",
    "# Train model\n",
    "tree_model = DecisionTreeClassifier()\n",
    "tree_model.fit(X_train, y_train)\n",
    "\n",
    "y_pred_tree = tree_model.predict(X_val)"
   ]
  },
  {
   "cell_type": "code",
   "execution_count": 35,
   "id": "1b155f8e-2e69-4bf2-aaf1-7632421228e9",
   "metadata": {},
   "outputs": [
    {
     "data": {
      "text/plain": [
       "array([0, 0, 0, 0, 1, 0, 0, 0, 0, 0], dtype=int64)"
      ]
     },
     "execution_count": 35,
     "metadata": {},
     "output_type": "execute_result"
    }
   ],
   "source": [
    "y_pred_tree[:10]"
   ]
  },
  {
   "cell_type": "markdown",
   "id": "8358ea7f-4180-4eea-bae2-a1ab3b22fb1d",
   "metadata": {},
   "source": [
    "<h3>Validate Model<h3>"
   ]
  },
  {
   "cell_type": "code",
   "execution_count": 36,
   "id": "6e5f24b5-06e6-4741-a568-e92af8024485",
   "metadata": {},
   "outputs": [
    {
     "name": "stdout",
     "output_type": "stream",
     "text": [
      "Accuracy: 0.8985932149104437\n"
     ]
    }
   ],
   "source": [
    "from sklearn.metrics import accuracy_score\n",
    "accuracy = accuracy_score(y_val, y_pred_tree)\n",
    "print(\"Accuracy:\", accuracy)"
   ]
  },
  {
   "cell_type": "code",
   "execution_count": 37,
   "id": "e3ca4534-0fff-43df-86af-912c30cc4df3",
   "metadata": {},
   "outputs": [
    {
     "name": "stdout",
     "output_type": "stream",
     "text": [
      "Classification Report:\n",
      "              precision    recall  f1-score   support\n",
      "\n",
      "           0       0.97      0.91      0.94     33395\n",
      "           1       0.67      0.85      0.75      7194\n",
      "\n",
      "    accuracy                           0.90     40589\n",
      "   macro avg       0.82      0.88      0.84     40589\n",
      "weighted avg       0.91      0.90      0.90     40589\n",
      "\n"
     ]
    }
   ],
   "source": [
    "from sklearn.metrics import classification_report\n",
    "print(\"Classification Report:\")\n",
    "print(classification_report(y_val, y_pred_tree))"
   ]
  },
  {
   "cell_type": "code",
   "execution_count": 38,
   "id": "834ac39b-7f83-46f2-a449-1d8c609f7ec9",
   "metadata": {},
   "outputs": [
    {
     "name": "stdout",
     "output_type": "stream",
     "text": [
      "Confusion Matrix:\n",
      "[[30324  3071]\n",
      " [ 1045  6149]]\n"
     ]
    }
   ],
   "source": [
    "from sklearn.metrics import confusion_matrix\n",
    "print(\"Confusion Matrix:\")\n",
    "print(confusion_matrix(y_val, y_pred_tree))"
   ]
  },
  {
   "cell_type": "markdown",
   "id": "9923e0cc-3796-40d3-91b5-28d0fe79ad3d",
   "metadata": {},
   "source": [
    "<h3>Random Forest<h3>"
   ]
  },
  {
   "cell_type": "code",
   "execution_count": 39,
   "id": "d7fe16c4-b18b-4dbc-ad52-ca578140d2db",
   "metadata": {},
   "outputs": [],
   "source": [
    "from sklearn.ensemble import RandomForestClassifier\n",
    "\n",
    "# Train model\n",
    "frst_model = RandomForestClassifier()\n",
    "frst_model.fit(X_train, y_train)\n",
    "\n",
    "y_pred_frst = frst_model.predict(X_val)"
   ]
  },
  {
   "cell_type": "code",
   "execution_count": 40,
   "id": "c37c2e7d-184c-4fb4-99ee-ba0e52958e9e",
   "metadata": {},
   "outputs": [
    {
     "data": {
      "text/plain": [
       "array([0, 0, 0, 0, 0, 0, 0, 0, 0, 0], dtype=int64)"
      ]
     },
     "execution_count": 40,
     "metadata": {},
     "output_type": "execute_result"
    }
   ],
   "source": [
    "y_pred_frst[:10]"
   ]
  },
  {
   "cell_type": "markdown",
   "id": "0a055ac8-5167-41ff-baa3-59230412549d",
   "metadata": {},
   "source": [
    "<h3>Validate Model<h3>"
   ]
  },
  {
   "cell_type": "code",
   "execution_count": 41,
   "id": "898d4a99-ef35-4120-8b9a-23805eecfdde",
   "metadata": {},
   "outputs": [
    {
     "name": "stdout",
     "output_type": "stream",
     "text": [
      "Accuracy: 0.9588558476434502\n"
     ]
    }
   ],
   "source": [
    "from sklearn.metrics import accuracy_score\n",
    "accuracy = accuracy_score(y_val, y_pred_frst)\n",
    "print(\"Accuracy:\", accuracy)"
   ]
  },
  {
   "cell_type": "code",
   "execution_count": 42,
   "id": "4b08ab7d-e5df-4744-86ed-7b3e77fbe29b",
   "metadata": {},
   "outputs": [
    {
     "name": "stdout",
     "output_type": "stream",
     "text": [
      "Classification Report:\n",
      "              precision    recall  f1-score   support\n",
      "\n",
      "           0       0.96      1.00      0.98     33395\n",
      "           1       0.97      0.79      0.87      7194\n",
      "\n",
      "    accuracy                           0.96     40589\n",
      "   macro avg       0.96      0.89      0.92     40589\n",
      "weighted avg       0.96      0.96      0.96     40589\n",
      "\n"
     ]
    }
   ],
   "source": [
    "from sklearn.metrics import classification_report\n",
    "print(\"Classification Report:\")\n",
    "print(classification_report(y_val, y_pred_frst))"
   ]
  },
  {
   "cell_type": "code",
   "execution_count": 43,
   "id": "58c6db3d-75cc-42cc-88fa-c1350a10d916",
   "metadata": {},
   "outputs": [
    {
     "name": "stdout",
     "output_type": "stream",
     "text": [
      "Confusion Matrix:\n",
      "[[33237   158]\n",
      " [ 1512  5682]]\n"
     ]
    }
   ],
   "source": [
    "from sklearn.metrics import confusion_matrix\n",
    "print(\"Confusion Matrix:\")\n",
    "print(confusion_matrix(y_val, y_pred_frst))"
   ]
  },
  {
   "cell_type": "markdown",
   "id": "b04340a8-8ffb-4de8-89ca-09ca46ebc077",
   "metadata": {},
   "source": [
    "<h3>Linear Regression<h3>"
   ]
  },
  {
   "cell_type": "code",
   "execution_count": 44,
   "id": "6075391c-8560-48da-8218-5b732a3d44b9",
   "metadata": {},
   "outputs": [],
   "source": [
    "from sklearn.linear_model import LinearRegression\n",
    "\n",
    "# Train model\n",
    "rgs_model = LinearRegression()\n",
    "rgs_model.fit(X_train, y_train)\n",
    "\n",
    "y_pred_rgs = rgs_model.predict(X_val)"
   ]
  },
  {
   "cell_type": "code",
   "execution_count": 45,
   "id": "1b24303e-8604-44db-8ae1-aeba89229bf3",
   "metadata": {},
   "outputs": [
    {
     "data": {
      "text/plain": [
       "[0, 0, 0, 0, 1, 0, 0, 0, 0, 0]"
      ]
     },
     "execution_count": 45,
     "metadata": {},
     "output_type": "execute_result"
    }
   ],
   "source": [
    "threshold = 0.5\n",
    "y_pred_rgs = [1 if pred > threshold else 0 for pred in y_pred_rgs]\n",
    "y_pred_rgs[:10]"
   ]
  },
  {
   "cell_type": "markdown",
   "id": "1e379135-d333-47f5-888f-931a3baa8094",
   "metadata": {},
   "source": [
    "<h3>Validate Model<h3>"
   ]
  },
  {
   "cell_type": "code",
   "execution_count": 46,
   "id": "e99f6684-d613-4747-917f-547c646a0363",
   "metadata": {},
   "outputs": [
    {
     "name": "stdout",
     "output_type": "stream",
     "text": [
      "Accuracy: 0.9217275616546355\n"
     ]
    }
   ],
   "source": [
    "from sklearn.metrics import accuracy_score\n",
    "accuracy = accuracy_score(y_val, y_pred_rgs)\n",
    "print(\"Accuracy:\", accuracy)"
   ]
  },
  {
   "cell_type": "code",
   "execution_count": 47,
   "id": "619a1472-5e5c-4dce-95b7-043e83d02872",
   "metadata": {},
   "outputs": [
    {
     "name": "stdout",
     "output_type": "stream",
     "text": [
      "Classification Report:\n",
      "              precision    recall  f1-score   support\n",
      "\n",
      "           0       0.92      0.99      0.95     33395\n",
      "           1       0.93      0.60      0.73      7194\n",
      "\n",
      "    accuracy                           0.92     40589\n",
      "   macro avg       0.93      0.80      0.84     40589\n",
      "weighted avg       0.92      0.92      0.91     40589\n",
      "\n"
     ]
    }
   ],
   "source": [
    "from sklearn.metrics import classification_report\n",
    "print(\"Classification Report:\")\n",
    "print(classification_report(y_val, y_pred_rgs))"
   ]
  },
  {
   "cell_type": "code",
   "execution_count": 49,
   "id": "9cbd3945-b9dc-4699-bfc9-a0cd205ca02d",
   "metadata": {},
   "outputs": [
    {
     "name": "stdout",
     "output_type": "stream",
     "text": [
      "Confusion Matrix:\n",
      "[[33091   304]\n",
      " [ 2873  4321]]\n"
     ]
    }
   ],
   "source": [
    "from sklearn.metrics import confusion_matrix\n",
    "print(\"Confusion Matrix:\")\n",
    "print(confusion_matrix(y_val, y_pred_rgs))"
   ]
  },
  {
   "cell_type": "code",
   "execution_count": null,
   "id": "6429123e-20b3-4ced-96c4-f4a491fc7dbe",
   "metadata": {},
   "outputs": [],
   "source": []
  }
 ],
 "metadata": {
  "kernelspec": {
   "display_name": "Python 3 (ipykernel)",
   "language": "python",
   "name": "python3"
  },
  "language_info": {
   "codemirror_mode": {
    "name": "ipython",
    "version": 3
   },
   "file_extension": ".py",
   "mimetype": "text/x-python",
   "name": "python",
   "nbconvert_exporter": "python",
   "pygments_lexer": "ipython3",
   "version": "3.11.7"
  }
 },
 "nbformat": 4,
 "nbformat_minor": 5
}

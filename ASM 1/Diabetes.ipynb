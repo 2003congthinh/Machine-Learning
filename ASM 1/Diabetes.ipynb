{
 "cells": [
  {
   "cell_type": "code",
   "execution_count": 1,
   "id": "ddab2b35-5526-4065-9b39-fed08bb96e41",
   "metadata": {},
   "outputs": [],
   "source": [
    "import pandas as pd\n",
    "import matplotlib.pyplot as plt\n",
    "import numpy as np"
   ]
  },
  {
   "cell_type": "markdown",
   "id": "4380e0e2-d266-43cc-944c-8bdcca939446",
   "metadata": {},
   "source": [
    "<h3>Preparing the data<h3>"
   ]
  },
  {
   "cell_type": "code",
   "execution_count": 2,
   "id": "ec3e5ac7-512e-4995-b3eb-6580acf2bded",
   "metadata": {},
   "outputs": [],
   "source": [
    "train_data = pd.read_csv('data_train.csv')\n",
    "train = train_data[:182649] #no need to print"
   ]
  },
  {
   "cell_type": "code",
   "execution_count": 3,
   "id": "48ff22ae-ed0a-4a4e-b411-9345ae6d36bf",
   "metadata": {},
   "outputs": [
    {
     "name": "stdout",
     "output_type": "stream",
     "text": [
      "<class 'pandas.core.frame.DataFrame'>\n",
      "RangeIndex: 182649 entries, 0 to 182648\n",
      "Data columns (total 25 columns):\n",
      " #   Column                Non-Null Count   Dtype\n",
      "---  ------                --------------   -----\n",
      " 0   Id                    182649 non-null  int64\n",
      " 1   HighBP                182649 non-null  int64\n",
      " 2   HighChol              182649 non-null  int64\n",
      " 3   CholCheck             182649 non-null  int64\n",
      " 4   BMI                   182649 non-null  int64\n",
      " 5   Smoker                182649 non-null  int64\n",
      " 6   Stroke                182649 non-null  int64\n",
      " 7   HeartDiseaseorAttack  182649 non-null  int64\n",
      " 8   PhysActivity          182649 non-null  int64\n",
      " 9   Fruits                182649 non-null  int64\n",
      " 10  Veggies               182649 non-null  int64\n",
      " 11  HvyAlcoholConsump     182649 non-null  int64\n",
      " 12  AnyHealthcare         182649 non-null  int64\n",
      " 13  NoDocbcCost           182649 non-null  int64\n",
      " 14  GenHlth               182649 non-null  int64\n",
      " 15  MentHlth              182649 non-null  int64\n",
      " 16  PhysHlth              182649 non-null  int64\n",
      " 17  DiffWalk              182649 non-null  int64\n",
      " 18  Sex                   182649 non-null  int64\n",
      " 19  Age                   182649 non-null  int64\n",
      " 20  Education             182649 non-null  int64\n",
      " 21  Income                182649 non-null  int64\n",
      " 22  ExtraMedTest          182649 non-null  int64\n",
      " 23  ExtraAlcoholTest      182649 non-null  int64\n",
      " 24  Status                182649 non-null  int64\n",
      "dtypes: int64(25)\n",
      "memory usage: 34.8 MB\n"
     ]
    }
   ],
   "source": [
    "train.info() #Check for null, if there are null - use dropna()"
   ]
  },
  {
   "cell_type": "markdown",
   "id": "a8b3ecb0-e01f-419c-93cb-46168fa24123",
   "metadata": {},
   "source": [
    "<h3>Split into input & output<h3>"
   ]
  },
  {
   "cell_type": "code",
   "execution_count": 4,
   "id": "99b903ff-e495-4867-b977-eccc1f0c6f74",
   "metadata": {},
   "outputs": [],
   "source": [
    "X = train.drop(columns=['Status'])\n",
    "y = train['Status']"
   ]
  },
  {
   "cell_type": "code",
   "execution_count": 5,
   "id": "b456aa4c-7517-4d15-a898-70e7d17ded13",
   "metadata": {},
   "outputs": [
    {
     "data": {
      "text/plain": [
       "count    182649.000000\n",
       "mean          0.175347\n",
       "std           0.380265\n",
       "min           0.000000\n",
       "25%           0.000000\n",
       "50%           0.000000\n",
       "75%           0.000000\n",
       "max           1.000000\n",
       "Name: Status, dtype: float64"
      ]
     },
     "execution_count": 5,
     "metadata": {},
     "output_type": "execute_result"
    }
   ],
   "source": [
    "y.describe()"
   ]
  },
  {
   "cell_type": "markdown",
   "id": "a790075f-2309-4c6c-8611-576927d2a504",
   "metadata": {},
   "source": [
    "<h3>Prepare the test set<h3>"
   ]
  },
  {
   "cell_type": "code",
   "execution_count": 6,
   "id": "09295b34-017f-4455-9227-e15de1672c2c",
   "metadata": {},
   "outputs": [
    {
     "data": {
      "text/html": [
       "<div>\n",
       "<style scoped>\n",
       "    .dataframe tbody tr th:only-of-type {\n",
       "        vertical-align: middle;\n",
       "    }\n",
       "\n",
       "    .dataframe tbody tr th {\n",
       "        vertical-align: top;\n",
       "    }\n",
       "\n",
       "    .dataframe thead th {\n",
       "        text-align: right;\n",
       "    }\n",
       "</style>\n",
       "<table border=\"1\" class=\"dataframe\">\n",
       "  <thead>\n",
       "    <tr style=\"text-align: right;\">\n",
       "      <th></th>\n",
       "      <th>Id</th>\n",
       "      <th>HighBP</th>\n",
       "      <th>HighChol</th>\n",
       "      <th>CholCheck</th>\n",
       "      <th>BMI</th>\n",
       "      <th>Smoker</th>\n",
       "      <th>Stroke</th>\n",
       "      <th>HeartDiseaseorAttack</th>\n",
       "      <th>PhysActivity</th>\n",
       "      <th>Fruits</th>\n",
       "      <th>...</th>\n",
       "      <th>MentHlth</th>\n",
       "      <th>PhysHlth</th>\n",
       "      <th>DiffWalk</th>\n",
       "      <th>Sex</th>\n",
       "      <th>Age</th>\n",
       "      <th>Education</th>\n",
       "      <th>Income</th>\n",
       "      <th>ExtraMedTest</th>\n",
       "      <th>ExtraAlcoholTest</th>\n",
       "      <th>Status</th>\n",
       "    </tr>\n",
       "  </thead>\n",
       "  <tbody>\n",
       "    <tr>\n",
       "      <th>182650</th>\n",
       "      <td>182650</td>\n",
       "      <td>1</td>\n",
       "      <td>1</td>\n",
       "      <td>1</td>\n",
       "      <td>26</td>\n",
       "      <td>1</td>\n",
       "      <td>0</td>\n",
       "      <td>0</td>\n",
       "      <td>0</td>\n",
       "      <td>1</td>\n",
       "      <td>...</td>\n",
       "      <td>0</td>\n",
       "      <td>0</td>\n",
       "      <td>0</td>\n",
       "      <td>0</td>\n",
       "      <td>7</td>\n",
       "      <td>6</td>\n",
       "      <td>8</td>\n",
       "      <td>28</td>\n",
       "      <td>100</td>\n",
       "      <td>1</td>\n",
       "    </tr>\n",
       "    <tr>\n",
       "      <th>182651</th>\n",
       "      <td>182651</td>\n",
       "      <td>1</td>\n",
       "      <td>0</td>\n",
       "      <td>1</td>\n",
       "      <td>35</td>\n",
       "      <td>0</td>\n",
       "      <td>0</td>\n",
       "      <td>0</td>\n",
       "      <td>0</td>\n",
       "      <td>0</td>\n",
       "      <td>...</td>\n",
       "      <td>0</td>\n",
       "      <td>0</td>\n",
       "      <td>1</td>\n",
       "      <td>0</td>\n",
       "      <td>11</td>\n",
       "      <td>4</td>\n",
       "      <td>7</td>\n",
       "      <td>31</td>\n",
       "      <td>64</td>\n",
       "      <td>1</td>\n",
       "    </tr>\n",
       "    <tr>\n",
       "      <th>182652</th>\n",
       "      <td>182652</td>\n",
       "      <td>1</td>\n",
       "      <td>0</td>\n",
       "      <td>1</td>\n",
       "      <td>30</td>\n",
       "      <td>0</td>\n",
       "      <td>0</td>\n",
       "      <td>0</td>\n",
       "      <td>1</td>\n",
       "      <td>0</td>\n",
       "      <td>...</td>\n",
       "      <td>0</td>\n",
       "      <td>0</td>\n",
       "      <td>0</td>\n",
       "      <td>1</td>\n",
       "      <td>5</td>\n",
       "      <td>5</td>\n",
       "      <td>8</td>\n",
       "      <td>-11</td>\n",
       "      <td>-3</td>\n",
       "      <td>0</td>\n",
       "    </tr>\n",
       "    <tr>\n",
       "      <th>182653</th>\n",
       "      <td>182653</td>\n",
       "      <td>1</td>\n",
       "      <td>1</td>\n",
       "      <td>1</td>\n",
       "      <td>24</td>\n",
       "      <td>1</td>\n",
       "      <td>0</td>\n",
       "      <td>0</td>\n",
       "      <td>1</td>\n",
       "      <td>0</td>\n",
       "      <td>...</td>\n",
       "      <td>15</td>\n",
       "      <td>8</td>\n",
       "      <td>0</td>\n",
       "      <td>0</td>\n",
       "      <td>9</td>\n",
       "      <td>4</td>\n",
       "      <td>6</td>\n",
       "      <td>-94</td>\n",
       "      <td>0</td>\n",
       "      <td>0</td>\n",
       "    </tr>\n",
       "    <tr>\n",
       "      <th>182654</th>\n",
       "      <td>182654</td>\n",
       "      <td>0</td>\n",
       "      <td>0</td>\n",
       "      <td>1</td>\n",
       "      <td>20</td>\n",
       "      <td>1</td>\n",
       "      <td>0</td>\n",
       "      <td>0</td>\n",
       "      <td>0</td>\n",
       "      <td>0</td>\n",
       "      <td>...</td>\n",
       "      <td>0</td>\n",
       "      <td>3</td>\n",
       "      <td>0</td>\n",
       "      <td>0</td>\n",
       "      <td>9</td>\n",
       "      <td>4</td>\n",
       "      <td>6</td>\n",
       "      <td>-38</td>\n",
       "      <td>-140</td>\n",
       "      <td>0</td>\n",
       "    </tr>\n",
       "    <tr>\n",
       "      <th>...</th>\n",
       "      <td>...</td>\n",
       "      <td>...</td>\n",
       "      <td>...</td>\n",
       "      <td>...</td>\n",
       "      <td>...</td>\n",
       "      <td>...</td>\n",
       "      <td>...</td>\n",
       "      <td>...</td>\n",
       "      <td>...</td>\n",
       "      <td>...</td>\n",
       "      <td>...</td>\n",
       "      <td>...</td>\n",
       "      <td>...</td>\n",
       "      <td>...</td>\n",
       "      <td>...</td>\n",
       "      <td>...</td>\n",
       "      <td>...</td>\n",
       "      <td>...</td>\n",
       "      <td>...</td>\n",
       "      <td>...</td>\n",
       "      <td>...</td>\n",
       "    </tr>\n",
       "    <tr>\n",
       "      <th>202939</th>\n",
       "      <td>202939</td>\n",
       "      <td>0</td>\n",
       "      <td>0</td>\n",
       "      <td>1</td>\n",
       "      <td>29</td>\n",
       "      <td>0</td>\n",
       "      <td>0</td>\n",
       "      <td>0</td>\n",
       "      <td>1</td>\n",
       "      <td>0</td>\n",
       "      <td>...</td>\n",
       "      <td>10</td>\n",
       "      <td>2</td>\n",
       "      <td>0</td>\n",
       "      <td>0</td>\n",
       "      <td>8</td>\n",
       "      <td>6</td>\n",
       "      <td>7</td>\n",
       "      <td>-66</td>\n",
       "      <td>4</td>\n",
       "      <td>0</td>\n",
       "    </tr>\n",
       "    <tr>\n",
       "      <th>202940</th>\n",
       "      <td>202940</td>\n",
       "      <td>0</td>\n",
       "      <td>0</td>\n",
       "      <td>1</td>\n",
       "      <td>23</td>\n",
       "      <td>0</td>\n",
       "      <td>0</td>\n",
       "      <td>0</td>\n",
       "      <td>1</td>\n",
       "      <td>0</td>\n",
       "      <td>...</td>\n",
       "      <td>0</td>\n",
       "      <td>0</td>\n",
       "      <td>0</td>\n",
       "      <td>0</td>\n",
       "      <td>11</td>\n",
       "      <td>5</td>\n",
       "      <td>7</td>\n",
       "      <td>0</td>\n",
       "      <td>-84</td>\n",
       "      <td>0</td>\n",
       "    </tr>\n",
       "    <tr>\n",
       "      <th>202941</th>\n",
       "      <td>202941</td>\n",
       "      <td>1</td>\n",
       "      <td>1</td>\n",
       "      <td>1</td>\n",
       "      <td>38</td>\n",
       "      <td>0</td>\n",
       "      <td>0</td>\n",
       "      <td>0</td>\n",
       "      <td>1</td>\n",
       "      <td>1</td>\n",
       "      <td>...</td>\n",
       "      <td>0</td>\n",
       "      <td>2</td>\n",
       "      <td>0</td>\n",
       "      <td>1</td>\n",
       "      <td>10</td>\n",
       "      <td>6</td>\n",
       "      <td>6</td>\n",
       "      <td>-57</td>\n",
       "      <td>-16</td>\n",
       "      <td>0</td>\n",
       "    </tr>\n",
       "    <tr>\n",
       "      <th>202942</th>\n",
       "      <td>202942</td>\n",
       "      <td>0</td>\n",
       "      <td>1</td>\n",
       "      <td>1</td>\n",
       "      <td>22</td>\n",
       "      <td>0</td>\n",
       "      <td>0</td>\n",
       "      <td>0</td>\n",
       "      <td>1</td>\n",
       "      <td>1</td>\n",
       "      <td>...</td>\n",
       "      <td>0</td>\n",
       "      <td>14</td>\n",
       "      <td>0</td>\n",
       "      <td>0</td>\n",
       "      <td>9</td>\n",
       "      <td>6</td>\n",
       "      <td>7</td>\n",
       "      <td>59</td>\n",
       "      <td>0</td>\n",
       "      <td>0</td>\n",
       "    </tr>\n",
       "    <tr>\n",
       "      <th>202943</th>\n",
       "      <td>202943</td>\n",
       "      <td>0</td>\n",
       "      <td>0</td>\n",
       "      <td>1</td>\n",
       "      <td>22</td>\n",
       "      <td>0</td>\n",
       "      <td>0</td>\n",
       "      <td>0</td>\n",
       "      <td>0</td>\n",
       "      <td>0</td>\n",
       "      <td>...</td>\n",
       "      <td>2</td>\n",
       "      <td>2</td>\n",
       "      <td>0</td>\n",
       "      <td>1</td>\n",
       "      <td>5</td>\n",
       "      <td>6</td>\n",
       "      <td>8</td>\n",
       "      <td>-96</td>\n",
       "      <td>0</td>\n",
       "      <td>0</td>\n",
       "    </tr>\n",
       "  </tbody>\n",
       "</table>\n",
       "<p>20294 rows × 25 columns</p>\n",
       "</div>"
      ],
      "text/plain": [
       "            Id  HighBP  HighChol  CholCheck  BMI  Smoker  Stroke  \\\n",
       "182650  182650       1         1          1   26       1       0   \n",
       "182651  182651       1         0          1   35       0       0   \n",
       "182652  182652       1         0          1   30       0       0   \n",
       "182653  182653       1         1          1   24       1       0   \n",
       "182654  182654       0         0          1   20       1       0   \n",
       "...        ...     ...       ...        ...  ...     ...     ...   \n",
       "202939  202939       0         0          1   29       0       0   \n",
       "202940  202940       0         0          1   23       0       0   \n",
       "202941  202941       1         1          1   38       0       0   \n",
       "202942  202942       0         1          1   22       0       0   \n",
       "202943  202943       0         0          1   22       0       0   \n",
       "\n",
       "        HeartDiseaseorAttack  PhysActivity  Fruits  ...  MentHlth  PhysHlth  \\\n",
       "182650                     0             0       1  ...         0         0   \n",
       "182651                     0             0       0  ...         0         0   \n",
       "182652                     0             1       0  ...         0         0   \n",
       "182653                     0             1       0  ...        15         8   \n",
       "182654                     0             0       0  ...         0         3   \n",
       "...                      ...           ...     ...  ...       ...       ...   \n",
       "202939                     0             1       0  ...        10         2   \n",
       "202940                     0             1       0  ...         0         0   \n",
       "202941                     0             1       1  ...         0         2   \n",
       "202942                     0             1       1  ...         0        14   \n",
       "202943                     0             0       0  ...         2         2   \n",
       "\n",
       "        DiffWalk  Sex  Age  Education  Income  ExtraMedTest  ExtraAlcoholTest  \\\n",
       "182650         0    0    7          6       8            28               100   \n",
       "182651         1    0   11          4       7            31                64   \n",
       "182652         0    1    5          5       8           -11                -3   \n",
       "182653         0    0    9          4       6           -94                 0   \n",
       "182654         0    0    9          4       6           -38              -140   \n",
       "...          ...  ...  ...        ...     ...           ...               ...   \n",
       "202939         0    0    8          6       7           -66                 4   \n",
       "202940         0    0   11          5       7             0               -84   \n",
       "202941         0    1   10          6       6           -57               -16   \n",
       "202942         0    0    9          6       7            59                 0   \n",
       "202943         0    1    5          6       8           -96                 0   \n",
       "\n",
       "        Status  \n",
       "182650       1  \n",
       "182651       1  \n",
       "182652       0  \n",
       "182653       0  \n",
       "182654       0  \n",
       "...        ...  \n",
       "202939       0  \n",
       "202940       0  \n",
       "202941       0  \n",
       "202942       0  \n",
       "202943       0  \n",
       "\n",
       "[20294 rows x 25 columns]"
      ]
     },
     "execution_count": 6,
     "metadata": {},
     "output_type": "execute_result"
    }
   ],
   "source": [
    "test = train_data[182650:202944]\n",
    "test"
   ]
  },
  {
   "cell_type": "markdown",
   "id": "659b5d21-7ea7-4299-b58e-9ae977c01952",
   "metadata": {},
   "source": [
    "<h3>Split data into train and test<h3>"
   ]
  },
  {
   "cell_type": "code",
   "execution_count": 7,
   "id": "9934838d-676e-4563-a85b-3f756a8ced5c",
   "metadata": {},
   "outputs": [],
   "source": [
    "from sklearn.model_selection import train_test_split\n",
    "\n",
    "# Split the data into training and testing sets\n",
    "X_train, X_test, y_train, y_test = train_test_split(X, y, test_size=0.2, random_state=42)\n",
    "X_test = test.drop(columns=['Status'])\n",
    "y_test = test['Status']"
   ]
  },
  {
   "cell_type": "code",
   "execution_count": 8,
   "id": "e500185a-1e91-4f63-ae21-737f4aef036e",
   "metadata": {},
   "outputs": [
    {
     "data": {
      "text/plain": [
       "182650    1\n",
       "182651    1\n",
       "182652    0\n",
       "182653    0\n",
       "182654    0\n",
       "182655    0\n",
       "182656    0\n",
       "182657    1\n",
       "182658    1\n",
       "182659    0\n",
       "Name: Status, dtype: int64"
      ]
     },
     "execution_count": 8,
     "metadata": {},
     "output_type": "execute_result"
    }
   ],
   "source": [
    "y_test[:10]"
   ]
  },
  {
   "cell_type": "markdown",
   "id": "f7d62a72-0d8b-43ee-8cfd-da63610d891c",
   "metadata": {},
   "source": [
    "<h3>Decision Trees<h3>"
   ]
  },
  {
   "cell_type": "code",
   "execution_count": 9,
   "id": "107532b4-2ca9-44ff-9c02-6262fd68d5ed",
   "metadata": {},
   "outputs": [],
   "source": [
    "from sklearn.tree import DecisionTreeClassifier\n",
    "\n",
    "# Train model\n",
    "tree_model = DecisionTreeClassifier()\n",
    "tree_model.fit(X_train, y_train)\n",
    "\n",
    "y_pred_tree = tree_model.predict(X_test)"
   ]
  },
  {
   "cell_type": "code",
   "execution_count": 10,
   "id": "1b155f8e-2e69-4bf2-aaf1-7632421228e9",
   "metadata": {},
   "outputs": [
    {
     "data": {
      "text/plain": [
       "array([1, 0, 0, 0, 1, 0, 0, 1, 1, 0], dtype=int64)"
      ]
     },
     "execution_count": 10,
     "metadata": {},
     "output_type": "execute_result"
    }
   ],
   "source": [
    "y_pred_tree[:10]"
   ]
  },
  {
   "cell_type": "markdown",
   "id": "8358ea7f-4180-4eea-bae2-a1ab3b22fb1d",
   "metadata": {},
   "source": [
    "<h3>Evaluate Model<h3>"
   ]
  },
  {
   "cell_type": "code",
   "execution_count": 11,
   "id": "6e5f24b5-06e6-4741-a568-e92af8024485",
   "metadata": {},
   "outputs": [
    {
     "name": "stdout",
     "output_type": "stream",
     "text": [
      "Accuracy: 0.8739528924805361\n"
     ]
    }
   ],
   "source": [
    "from sklearn.metrics import accuracy_score\n",
    "accuracy = accuracy_score(y_test, y_pred_tree)\n",
    "print(\"Accuracy:\", accuracy)"
   ]
  },
  {
   "cell_type": "code",
   "execution_count": 12,
   "id": "e3ca4534-0fff-43df-86af-912c30cc4df3",
   "metadata": {},
   "outputs": [
    {
     "name": "stdout",
     "output_type": "stream",
     "text": [
      "Classification Report:\n",
      "              precision    recall  f1-score   support\n",
      "\n",
      "           0       0.96      0.88      0.92     16690\n",
      "           1       0.60      0.84      0.70      3604\n",
      "\n",
      "    accuracy                           0.87     20294\n",
      "   macro avg       0.78      0.86      0.81     20294\n",
      "weighted avg       0.90      0.87      0.88     20294\n",
      "\n"
     ]
    }
   ],
   "source": [
    "from sklearn.metrics import classification_report\n",
    "print(\"Classification Report:\")\n",
    "print(classification_report(y_test, y_pred_tree))"
   ]
  },
  {
   "cell_type": "code",
   "execution_count": 13,
   "id": "834ac39b-7f83-46f2-a449-1d8c609f7ec9",
   "metadata": {},
   "outputs": [
    {
     "name": "stdout",
     "output_type": "stream",
     "text": [
      "Confusion Matrix:\n",
      "[[14698  1992]\n",
      " [  566  3038]]\n"
     ]
    }
   ],
   "source": [
    "from sklearn.metrics import confusion_matrix\n",
    "print(\"Confusion Matrix:\")\n",
    "print(confusion_matrix(y_test, y_pred_tree))"
   ]
  },
  {
   "cell_type": "markdown",
   "id": "9923e0cc-3796-40d3-91b5-28d0fe79ad3d",
   "metadata": {},
   "source": [
    "<h3>Random Forest<h3>"
   ]
  },
  {
   "cell_type": "code",
   "execution_count": 14,
   "id": "d7fe16c4-b18b-4dbc-ad52-ca578140d2db",
   "metadata": {},
   "outputs": [],
   "source": [
    "from sklearn.ensemble import RandomForestClassifier\n",
    "\n",
    "# Train model\n",
    "frst_model = RandomForestClassifier()\n",
    "frst_model.fit(X_train, y_train)\n",
    "\n",
    "y_pred_frst = frst_model.predict(X_test)"
   ]
  },
  {
   "cell_type": "code",
   "execution_count": 15,
   "id": "c37c2e7d-184c-4fb4-99ee-ba0e52958e9e",
   "metadata": {},
   "outputs": [
    {
     "data": {
      "text/plain": [
       "array([1, 0, 0, 0, 0, 0, 0, 1, 1, 0], dtype=int64)"
      ]
     },
     "execution_count": 15,
     "metadata": {},
     "output_type": "execute_result"
    }
   ],
   "source": [
    "y_pred_frst[:10]"
   ]
  },
  {
   "cell_type": "markdown",
   "id": "0a055ac8-5167-41ff-baa3-59230412549d",
   "metadata": {},
   "source": [
    "<h3>Evaluate Model<h3>"
   ]
  },
  {
   "cell_type": "code",
   "execution_count": 16,
   "id": "898d4a99-ef35-4120-8b9a-23805eecfdde",
   "metadata": {},
   "outputs": [
    {
     "name": "stdout",
     "output_type": "stream",
     "text": [
      "Accuracy: 0.9568838080220755\n"
     ]
    }
   ],
   "source": [
    "from sklearn.metrics import accuracy_score\n",
    "accuracy = accuracy_score(y_test, y_pred_frst)\n",
    "print(\"Accuracy:\", accuracy)"
   ]
  },
  {
   "cell_type": "code",
   "execution_count": 17,
   "id": "4b08ab7d-e5df-4744-86ed-7b3e77fbe29b",
   "metadata": {},
   "outputs": [
    {
     "name": "stdout",
     "output_type": "stream",
     "text": [
      "Classification Report:\n",
      "              precision    recall  f1-score   support\n",
      "\n",
      "           0       0.95      0.99      0.97     16690\n",
      "           1       0.97      0.78      0.87      3604\n",
      "\n",
      "    accuracy                           0.96     20294\n",
      "   macro avg       0.96      0.89      0.92     20294\n",
      "weighted avg       0.96      0.96      0.96     20294\n",
      "\n"
     ]
    }
   ],
   "source": [
    "from sklearn.metrics import classification_report\n",
    "print(\"Classification Report:\")\n",
    "print(classification_report(y_test, y_pred_frst))"
   ]
  },
  {
   "cell_type": "code",
   "execution_count": 18,
   "id": "58c6db3d-75cc-42cc-88fa-c1350a10d916",
   "metadata": {},
   "outputs": [
    {
     "name": "stdout",
     "output_type": "stream",
     "text": [
      "Confusion Matrix:\n",
      "[[16602    88]\n",
      " [  787  2817]]\n"
     ]
    }
   ],
   "source": [
    "from sklearn.metrics import confusion_matrix\n",
    "print(\"Confusion Matrix:\")\n",
    "print(confusion_matrix(y_test, y_pred_frst))"
   ]
  },
  {
   "cell_type": "markdown",
   "id": "b04340a8-8ffb-4de8-89ca-09ca46ebc077",
   "metadata": {},
   "source": [
    "<h3>Linear Regression<h3>"
   ]
  },
  {
   "cell_type": "code",
   "execution_count": 20,
   "id": "6075391c-8560-48da-8218-5b732a3d44b9",
   "metadata": {},
   "outputs": [],
   "source": [
    "from sklearn.linear_model import LinearRegression\n",
    "\n",
    "# Train model\n",
    "rgs_model = LinearRegression()\n",
    "rgs_model.fit(X_train, y_train)\n",
    "\n",
    "y_pred_rgs = rgs_model.predict(X_test)"
   ]
  },
  {
   "cell_type": "code",
   "execution_count": 22,
   "id": "1b24303e-8604-44db-8ae1-aeba89229bf3",
   "metadata": {},
   "outputs": [
    {
     "data": {
      "text/plain": [
       "[0, 0, 0, 0, 0, 0, 0, 1, 0, 1]"
      ]
     },
     "execution_count": 22,
     "metadata": {},
     "output_type": "execute_result"
    }
   ],
   "source": [
    "threshold = 0.5\n",
    "y_pred_rgs = [1 if pred > threshold else 0 for pred in y_pred_rgs]\n",
    "y_pred_rgs[:10]"
   ]
  },
  {
   "cell_type": "markdown",
   "id": "1e379135-d333-47f5-888f-931a3baa8094",
   "metadata": {},
   "source": [
    "<h3>Evaluate Model<h3>"
   ]
  },
  {
   "cell_type": "code",
   "execution_count": 23,
   "id": "e99f6684-d613-4747-917f-547c646a0363",
   "metadata": {},
   "outputs": [
    {
     "name": "stdout",
     "output_type": "stream",
     "text": [
      "Accuracy: 0.9192372129693506\n"
     ]
    }
   ],
   "source": [
    "from sklearn.metrics import accuracy_score\n",
    "accuracy = accuracy_score(y_test, y_pred_rgs)\n",
    "print(\"Accuracy:\", accuracy)"
   ]
  },
  {
   "cell_type": "code",
   "execution_count": 24,
   "id": "619a1472-5e5c-4dce-95b7-043e83d02872",
   "metadata": {},
   "outputs": [
    {
     "name": "stdout",
     "output_type": "stream",
     "text": [
      "Classification Report:\n",
      "              precision    recall  f1-score   support\n",
      "\n",
      "           0       0.92      0.99      0.95     16690\n",
      "           1       0.93      0.59      0.72      3604\n",
      "\n",
      "    accuracy                           0.92     20294\n",
      "   macro avg       0.92      0.79      0.84     20294\n",
      "weighted avg       0.92      0.92      0.91     20294\n",
      "\n"
     ]
    }
   ],
   "source": [
    "from sklearn.metrics import classification_report\n",
    "print(\"Classification Report:\")\n",
    "print(classification_report(y_test, y_pred_rgs))"
   ]
  },
  {
   "cell_type": "code",
   "execution_count": 25,
   "id": "9cbd3945-b9dc-4699-bfc9-a0cd205ca02d",
   "metadata": {},
   "outputs": [
    {
     "name": "stdout",
     "output_type": "stream",
     "text": [
      "Confusion Matrix:\n",
      "[[16533   157]\n",
      " [ 1482  2122]]\n"
     ]
    }
   ],
   "source": [
    "from sklearn.metrics import confusion_matrix\n",
    "print(\"Confusion Matrix:\")\n",
    "print(confusion_matrix(y_test, y_pred_rgs))"
   ]
  },
  {
   "cell_type": "code",
   "execution_count": null,
   "id": "6429123e-20b3-4ced-96c4-f4a491fc7dbe",
   "metadata": {},
   "outputs": [],
   "source": []
  }
 ],
 "metadata": {
  "kernelspec": {
   "display_name": "Python 3 (ipykernel)",
   "language": "python",
   "name": "python3"
  },
  "language_info": {
   "codemirror_mode": {
    "name": "ipython",
    "version": 3
   },
   "file_extension": ".py",
   "mimetype": "text/x-python",
   "name": "python",
   "nbconvert_exporter": "python",
   "pygments_lexer": "ipython3",
   "version": "3.11.7"
  }
 },
 "nbformat": 4,
 "nbformat_minor": 5
}

{
 "cells": [
  {
   "cell_type": "markdown",
   "id": "7075dab3-932c-438d-9d50-45c3a9668ad9",
   "metadata": {},
   "source": [
    "WEEK 2"
   ]
  },
  {
   "cell_type": "code",
   "execution_count": 2,
   "id": "8816620c-1912-4b9d-aa0d-0403eb55522f",
   "metadata": {},
   "outputs": [],
   "source": [
    "import pandas as pd"
   ]
  },
  {
   "cell_type": "code",
   "execution_count": null,
   "id": "429a9829-c4f3-477b-a911-65a13d6fa832",
   "metadata": {},
   "outputs": [],
   "source": []
  }
 ],
 "metadata": {
  "kernelspec": {
   "display_name": "Python 3 (ipykernel)",
   "language": "python",
   "name": "python3"
  },
  "language_info": {
   "codemirror_mode": {
    "name": "ipython",
    "version": 3
   },
   "file_extension": ".py",
   "mimetype": "text/x-python",
   "name": "python",
   "nbconvert_exporter": "python",
   "pygments_lexer": "ipython3",
   "version": "3.11.7"
  }
 },
 "nbformat": 4,
 "nbformat_minor": 5
}
